{
  "nbformat": 4,
  "nbformat_minor": 0,
  "metadata": {
    "colab": {
      "provenance": []
    },
    "kernelspec": {
      "name": "python3",
      "display_name": "Python 3"
    },
    "language_info": {
      "name": "python"
    }
  },
  "cells": [
    {
      "cell_type": "markdown",
      "source": [
        "# ZTA QBR - TEST CS\n",
        "Fernando Pochintesta 2/19/2024"
      ],
      "metadata": {
        "id": "O8yrs_SQ7qp5"
      }
    },
    {
      "cell_type": "code",
      "source": [
        "#Import the necessary libraries\n",
        "import pandas as pd\n",
        "import matplotlib.pyplot as plt\n",
        "import seaborn as sns"
      ],
      "metadata": {
        "id": "csLW1Ps971tm"
      },
      "execution_count": null,
      "outputs": []
    },
    {
      "cell_type": "code",
      "source": [
        "#UPLOAD THE FILE\n",
        "df = pd.read_excel('TEST_CS.xls')"
      ],
      "metadata": {
        "id": "6PKCisn7TBA0"
      },
      "execution_count": null,
      "outputs": []
    },
    {
      "cell_type": "markdown",
      "source": [
        "# Exploratory Analysis"
      ],
      "metadata": {
        "id": "1yh53WyPTBZt"
      }
    },
    {
      "cell_type": "code",
      "source": [
        "#View columns and data types\n",
        "df.info()"
      ],
      "metadata": {
        "colab": {
          "base_uri": "https://localhost:8080/"
        },
        "id": "bF-Yr7tU8G4W",
        "outputId": "9aa595d2-7f77-49d5-867d-6eb8f8c32fff"
      },
      "execution_count": null,
      "outputs": [
        {
          "output_type": "stream",
          "name": "stdout",
          "text": [
            "<class 'pandas.core.frame.DataFrame'>\n",
            "RangeIndex: 39474 entries, 0 to 39473\n",
            "Data columns (total 13 columns):\n",
            " #   Column               Non-Null Count  Dtype         \n",
            "---  ------               --------------  -----         \n",
            " 0   Invoice              39474 non-null  object        \n",
            " 1   Date                 39474 non-null  datetime64[ns]\n",
            " 2   Amount               39474 non-null  float64       \n",
            " 3   Payment Method       39474 non-null  object        \n",
            " 4   Payment Method Name  39474 non-null  object        \n",
            " 5   Payment Method Type  39474 non-null  object        \n",
            " 6   Email                39474 non-null  object        \n",
            " 7   Card BIN             39474 non-null  int64         \n",
            " 8   Card Issuer Name     39474 non-null  object        \n",
            " 9   Card Issuer Country  39474 non-null  object        \n",
            " 10  Card Type            39474 non-null  object        \n",
            " 11  Installments         39474 non-null  int64         \n",
            " 12  Status               39474 non-null  object        \n",
            "dtypes: datetime64[ns](1), float64(1), int64(2), object(9)\n",
            "memory usage: 3.9+ MB\n"
          ]
        }
      ]
    },
    {
      "cell_type": "code",
      "source": [
        "#Display metrics of numerical variables\n",
        "df.describe()"
      ],
      "metadata": {
        "id": "OME2lod687At",
        "colab": {
          "base_uri": "https://localhost:8080/",
          "height": 300
        },
        "outputId": "637524a6-3a5e-4834-a967-af82bafe9aa5"
      },
      "execution_count": null,
      "outputs": [
        {
          "output_type": "execute_result",
          "data": {
            "text/plain": [
              "            Amount        Card BIN  Installments\n",
              "count  39474.000000   39474.000000  39474.000000\n",
              "mean     215.238135  464350.806607      4.765339\n",
              "std      382.063921   50567.058137      4.082142\n",
              "min        0.140000     125.000000      1.000000\n",
              "25%       41.140000  433831.000000      1.000000\n",
              "50%       77.410000  454642.000000      3.000000\n",
              "75%      173.647500  476605.000000      6.000000\n",
              "max     4982.210000  985412.000000     12.000000"
            ],
            "text/html": [
              "\n",
              "  <div id=\"df-8b93e3ad-d567-4594-8648-8819864c6d27\" class=\"colab-df-container\">\n",
              "    <div>\n",
              "<style scoped>\n",
              "    .dataframe tbody tr th:only-of-type {\n",
              "        vertical-align: middle;\n",
              "    }\n",
              "\n",
              "    .dataframe tbody tr th {\n",
              "        vertical-align: top;\n",
              "    }\n",
              "\n",
              "    .dataframe thead th {\n",
              "        text-align: right;\n",
              "    }\n",
              "</style>\n",
              "<table border=\"1\" class=\"dataframe\">\n",
              "  <thead>\n",
              "    <tr style=\"text-align: right;\">\n",
              "      <th></th>\n",
              "      <th>Amount</th>\n",
              "      <th>Card BIN</th>\n",
              "      <th>Installments</th>\n",
              "    </tr>\n",
              "  </thead>\n",
              "  <tbody>\n",
              "    <tr>\n",
              "      <th>count</th>\n",
              "      <td>39474.000000</td>\n",
              "      <td>39474.000000</td>\n",
              "      <td>39474.000000</td>\n",
              "    </tr>\n",
              "    <tr>\n",
              "      <th>mean</th>\n",
              "      <td>215.238135</td>\n",
              "      <td>464350.806607</td>\n",
              "      <td>4.765339</td>\n",
              "    </tr>\n",
              "    <tr>\n",
              "      <th>std</th>\n",
              "      <td>382.063921</td>\n",
              "      <td>50567.058137</td>\n",
              "      <td>4.082142</td>\n",
              "    </tr>\n",
              "    <tr>\n",
              "      <th>min</th>\n",
              "      <td>0.140000</td>\n",
              "      <td>125.000000</td>\n",
              "      <td>1.000000</td>\n",
              "    </tr>\n",
              "    <tr>\n",
              "      <th>25%</th>\n",
              "      <td>41.140000</td>\n",
              "      <td>433831.000000</td>\n",
              "      <td>1.000000</td>\n",
              "    </tr>\n",
              "    <tr>\n",
              "      <th>50%</th>\n",
              "      <td>77.410000</td>\n",
              "      <td>454642.000000</td>\n",
              "      <td>3.000000</td>\n",
              "    </tr>\n",
              "    <tr>\n",
              "      <th>75%</th>\n",
              "      <td>173.647500</td>\n",
              "      <td>476605.000000</td>\n",
              "      <td>6.000000</td>\n",
              "    </tr>\n",
              "    <tr>\n",
              "      <th>max</th>\n",
              "      <td>4982.210000</td>\n",
              "      <td>985412.000000</td>\n",
              "      <td>12.000000</td>\n",
              "    </tr>\n",
              "  </tbody>\n",
              "</table>\n",
              "</div>\n",
              "    <div class=\"colab-df-buttons\">\n",
              "\n",
              "  <div class=\"colab-df-container\">\n",
              "    <button class=\"colab-df-convert\" onclick=\"convertToInteractive('df-8b93e3ad-d567-4594-8648-8819864c6d27')\"\n",
              "            title=\"Convert this dataframe to an interactive table.\"\n",
              "            style=\"display:none;\">\n",
              "\n",
              "  <svg xmlns=\"http://www.w3.org/2000/svg\" height=\"24px\" viewBox=\"0 -960 960 960\">\n",
              "    <path d=\"M120-120v-720h720v720H120Zm60-500h600v-160H180v160Zm220 220h160v-160H400v160Zm0 220h160v-160H400v160ZM180-400h160v-160H180v160Zm440 0h160v-160H620v160ZM180-180h160v-160H180v160Zm440 0h160v-160H620v160Z\"/>\n",
              "  </svg>\n",
              "    </button>\n",
              "\n",
              "  <style>\n",
              "    .colab-df-container {\n",
              "      display:flex;\n",
              "      gap: 12px;\n",
              "    }\n",
              "\n",
              "    .colab-df-convert {\n",
              "      background-color: #E8F0FE;\n",
              "      border: none;\n",
              "      border-radius: 50%;\n",
              "      cursor: pointer;\n",
              "      display: none;\n",
              "      fill: #1967D2;\n",
              "      height: 32px;\n",
              "      padding: 0 0 0 0;\n",
              "      width: 32px;\n",
              "    }\n",
              "\n",
              "    .colab-df-convert:hover {\n",
              "      background-color: #E2EBFA;\n",
              "      box-shadow: 0px 1px 2px rgba(60, 64, 67, 0.3), 0px 1px 3px 1px rgba(60, 64, 67, 0.15);\n",
              "      fill: #174EA6;\n",
              "    }\n",
              "\n",
              "    .colab-df-buttons div {\n",
              "      margin-bottom: 4px;\n",
              "    }\n",
              "\n",
              "    [theme=dark] .colab-df-convert {\n",
              "      background-color: #3B4455;\n",
              "      fill: #D2E3FC;\n",
              "    }\n",
              "\n",
              "    [theme=dark] .colab-df-convert:hover {\n",
              "      background-color: #434B5C;\n",
              "      box-shadow: 0px 1px 3px 1px rgba(0, 0, 0, 0.15);\n",
              "      filter: drop-shadow(0px 1px 2px rgba(0, 0, 0, 0.3));\n",
              "      fill: #FFFFFF;\n",
              "    }\n",
              "  </style>\n",
              "\n",
              "    <script>\n",
              "      const buttonEl =\n",
              "        document.querySelector('#df-8b93e3ad-d567-4594-8648-8819864c6d27 button.colab-df-convert');\n",
              "      buttonEl.style.display =\n",
              "        google.colab.kernel.accessAllowed ? 'block' : 'none';\n",
              "\n",
              "      async function convertToInteractive(key) {\n",
              "        const element = document.querySelector('#df-8b93e3ad-d567-4594-8648-8819864c6d27');\n",
              "        const dataTable =\n",
              "          await google.colab.kernel.invokeFunction('convertToInteractive',\n",
              "                                                    [key], {});\n",
              "        if (!dataTable) return;\n",
              "\n",
              "        const docLinkHtml = 'Like what you see? Visit the ' +\n",
              "          '<a target=\"_blank\" href=https://colab.research.google.com/notebooks/data_table.ipynb>data table notebook</a>'\n",
              "          + ' to learn more about interactive tables.';\n",
              "        element.innerHTML = '';\n",
              "        dataTable['output_type'] = 'display_data';\n",
              "        await google.colab.output.renderOutput(dataTable, element);\n",
              "        const docLink = document.createElement('div');\n",
              "        docLink.innerHTML = docLinkHtml;\n",
              "        element.appendChild(docLink);\n",
              "      }\n",
              "    </script>\n",
              "  </div>\n",
              "\n",
              "\n",
              "<div id=\"df-c4849ab8-dc9a-483f-b5ff-13cac22ce2fc\">\n",
              "  <button class=\"colab-df-quickchart\" onclick=\"quickchart('df-c4849ab8-dc9a-483f-b5ff-13cac22ce2fc')\"\n",
              "            title=\"Suggest charts\"\n",
              "            style=\"display:none;\">\n",
              "\n",
              "<svg xmlns=\"http://www.w3.org/2000/svg\" height=\"24px\"viewBox=\"0 0 24 24\"\n",
              "     width=\"24px\">\n",
              "    <g>\n",
              "        <path d=\"M19 3H5c-1.1 0-2 .9-2 2v14c0 1.1.9 2 2 2h14c1.1 0 2-.9 2-2V5c0-1.1-.9-2-2-2zM9 17H7v-7h2v7zm4 0h-2V7h2v10zm4 0h-2v-4h2v4z\"/>\n",
              "    </g>\n",
              "</svg>\n",
              "  </button>\n",
              "\n",
              "<style>\n",
              "  .colab-df-quickchart {\n",
              "      --bg-color: #E8F0FE;\n",
              "      --fill-color: #1967D2;\n",
              "      --hover-bg-color: #E2EBFA;\n",
              "      --hover-fill-color: #174EA6;\n",
              "      --disabled-fill-color: #AAA;\n",
              "      --disabled-bg-color: #DDD;\n",
              "  }\n",
              "\n",
              "  [theme=dark] .colab-df-quickchart {\n",
              "      --bg-color: #3B4455;\n",
              "      --fill-color: #D2E3FC;\n",
              "      --hover-bg-color: #434B5C;\n",
              "      --hover-fill-color: #FFFFFF;\n",
              "      --disabled-bg-color: #3B4455;\n",
              "      --disabled-fill-color: #666;\n",
              "  }\n",
              "\n",
              "  .colab-df-quickchart {\n",
              "    background-color: var(--bg-color);\n",
              "    border: none;\n",
              "    border-radius: 50%;\n",
              "    cursor: pointer;\n",
              "    display: none;\n",
              "    fill: var(--fill-color);\n",
              "    height: 32px;\n",
              "    padding: 0;\n",
              "    width: 32px;\n",
              "  }\n",
              "\n",
              "  .colab-df-quickchart:hover {\n",
              "    background-color: var(--hover-bg-color);\n",
              "    box-shadow: 0 1px 2px rgba(60, 64, 67, 0.3), 0 1px 3px 1px rgba(60, 64, 67, 0.15);\n",
              "    fill: var(--button-hover-fill-color);\n",
              "  }\n",
              "\n",
              "  .colab-df-quickchart-complete:disabled,\n",
              "  .colab-df-quickchart-complete:disabled:hover {\n",
              "    background-color: var(--disabled-bg-color);\n",
              "    fill: var(--disabled-fill-color);\n",
              "    box-shadow: none;\n",
              "  }\n",
              "\n",
              "  .colab-df-spinner {\n",
              "    border: 2px solid var(--fill-color);\n",
              "    border-color: transparent;\n",
              "    border-bottom-color: var(--fill-color);\n",
              "    animation:\n",
              "      spin 1s steps(1) infinite;\n",
              "  }\n",
              "\n",
              "  @keyframes spin {\n",
              "    0% {\n",
              "      border-color: transparent;\n",
              "      border-bottom-color: var(--fill-color);\n",
              "      border-left-color: var(--fill-color);\n",
              "    }\n",
              "    20% {\n",
              "      border-color: transparent;\n",
              "      border-left-color: var(--fill-color);\n",
              "      border-top-color: var(--fill-color);\n",
              "    }\n",
              "    30% {\n",
              "      border-color: transparent;\n",
              "      border-left-color: var(--fill-color);\n",
              "      border-top-color: var(--fill-color);\n",
              "      border-right-color: var(--fill-color);\n",
              "    }\n",
              "    40% {\n",
              "      border-color: transparent;\n",
              "      border-right-color: var(--fill-color);\n",
              "      border-top-color: var(--fill-color);\n",
              "    }\n",
              "    60% {\n",
              "      border-color: transparent;\n",
              "      border-right-color: var(--fill-color);\n",
              "    }\n",
              "    80% {\n",
              "      border-color: transparent;\n",
              "      border-right-color: var(--fill-color);\n",
              "      border-bottom-color: var(--fill-color);\n",
              "    }\n",
              "    90% {\n",
              "      border-color: transparent;\n",
              "      border-bottom-color: var(--fill-color);\n",
              "    }\n",
              "  }\n",
              "</style>\n",
              "\n",
              "  <script>\n",
              "    async function quickchart(key) {\n",
              "      const quickchartButtonEl =\n",
              "        document.querySelector('#' + key + ' button');\n",
              "      quickchartButtonEl.disabled = true;  // To prevent multiple clicks.\n",
              "      quickchartButtonEl.classList.add('colab-df-spinner');\n",
              "      try {\n",
              "        const charts = await google.colab.kernel.invokeFunction(\n",
              "            'suggestCharts', [key], {});\n",
              "      } catch (error) {\n",
              "        console.error('Error during call to suggestCharts:', error);\n",
              "      }\n",
              "      quickchartButtonEl.classList.remove('colab-df-spinner');\n",
              "      quickchartButtonEl.classList.add('colab-df-quickchart-complete');\n",
              "    }\n",
              "    (() => {\n",
              "      let quickchartButtonEl =\n",
              "        document.querySelector('#df-c4849ab8-dc9a-483f-b5ff-13cac22ce2fc button');\n",
              "      quickchartButtonEl.style.display =\n",
              "        google.colab.kernel.accessAllowed ? 'block' : 'none';\n",
              "    })();\n",
              "  </script>\n",
              "</div>\n",
              "\n",
              "    </div>\n",
              "  </div>\n"
            ],
            "application/vnd.google.colaboratory.intrinsic+json": {
              "type": "dataframe",
              "summary": "{\n  \"name\": \"df\",\n  \"rows\": 8,\n  \"fields\": [\n    {\n      \"column\": \"Amount \",\n      \"properties\": {\n        \"dtype\": \"number\",\n        \"std\": 13764.439026846632,\n        \"min\": 0.14,\n        \"max\": 39474.0,\n        \"samples\": [\n          215.23813472158886,\n          77.41,\n          39474.0\n        ],\n        \"num_unique_values\": 8,\n        \"semantic_type\": \"\",\n        \"description\": \"\"\n      }\n    },\n    {\n      \"column\": \"Card BIN\",\n      \"properties\": {\n        \"dtype\": \"number\",\n        \"std\": 329057.4464032794,\n        \"min\": 125.0,\n        \"max\": 985412.0,\n        \"samples\": [\n          464350.8066068805,\n          454642.0,\n          39474.0\n        ],\n        \"num_unique_values\": 8,\n        \"semantic_type\": \"\",\n        \"description\": \"\"\n      }\n    },\n    {\n      \"column\": \"Installments\",\n      \"properties\": {\n        \"dtype\": \"number\",\n        \"std\": 13954.55843712112,\n        \"min\": 1.0,\n        \"max\": 39474.0,\n        \"samples\": [\n          39474.0,\n          4.765339210619648,\n          6.0\n        ],\n        \"num_unique_values\": 7,\n        \"semantic_type\": \"\",\n        \"description\": \"\"\n      }\n    }\n  ]\n}"
            }
          },
          "metadata": {},
          "execution_count": 38
        }
      ]
    },
    {
      "cell_type": "code",
      "source": [
        "#Date\n",
        "most_recent_date = df['Date'].max()\n",
        "most_recent_date"
      ],
      "metadata": {
        "colab": {
          "base_uri": "https://localhost:8080/"
        },
        "id": "n9WInb8U_M3z",
        "outputId": "68a94d3f-1402-43af-addb-74bcedead22e"
      },
      "execution_count": null,
      "outputs": [
        {
          "output_type": "execute_result",
          "data": {
            "text/plain": [
              "Timestamp('2021-05-31 23:58:00')"
            ]
          },
          "metadata": {},
          "execution_count": 39
        }
      ]
    },
    {
      "cell_type": "code",
      "source": [
        "#View unique values in categorical variables\n",
        "print(df['Payment Method'].unique())\n",
        "print(df['Payment Method Name'].unique())\n",
        "print(df['Payment Method Type'].unique())\n",
        "print(df['Card Issuer Name'].unique())\n",
        "print(df['Card Issuer Country'].unique())\n",
        "print(df['Card Type'].unique())\n",
        "print(df['Status'].unique())\n",
        "print(df['Installments'].unique())"
      ],
      "metadata": {
        "colab": {
          "base_uri": "https://localhost:8080/"
        },
        "id": "LD5dmdxEAY2T",
        "outputId": "208e12eb-09c4-4be5-ea35-668dec555d39"
      },
      "execution_count": null,
      "outputs": [
        {
          "output_type": "stream",
          "name": "stdout",
          "text": [
            "['VI' 'MD' 'MC' 'MS' 'VD' 'NT' 'NJ' 'AE' 'CL' 'CO' 'LD' 'CM' 'DC' 'CB'\n",
            " 'JC' 'EL' 'AG' 'DI']\n",
            "['Visa' 'MasterCard Debit' 'Mastercard' 'Maestro' 'Visa Debit' 'Nativa'\n",
            " 'Naranja' 'American Express' 'Cabal' 'Cordial' 'Cabal Debito' 'CMR'\n",
            " 'Diners Club' 'Cordobesa' 'JCB' 'Elo' 'Argencard' 'Discover']\n",
            "['CREDIT_CARD' 'DEBIT_CARD']\n",
            "['BANCO STEPH' 'BANCO MLML' 'BANCO SRSR' 'BANCO STOLL' 'BANCO DONCIC'\n",
            " 'BANCO ROSA' 'BANCO DLCDBA' 'BANCO ALICIA' 'BANCO ARENAS' 'BANCO HHTT'\n",
            " 'BANCO LILLARD' 'BANCO RILEY' 'BANCO VK' 'BANCO CAB' 'BANCO DIVAC'\n",
            " 'BANCO SOLARI' 'BANCO HOLA' 'BANCO RIVERS' 'BANCO WILLIAMS' 'BANCO MARO'\n",
            " 'BANCO PARKER' 'BANCO PEJA' 'BANCO JAZZ' 'BANCO NJNJ' 'BANCO GASOL'\n",
            " 'BANCO AXE' 'BANCO IVER' 'BANCO COLON' 'BANCO KLAY' 'UNKNOWN BANK'\n",
            " 'BANCO STOP' 'BANCO GARDEN' 'BANCO PIPPEN' 'BANCO BIAGGIO' 'BANCO JOW'\n",
            " 'BANCO MALONE' 'BANCO SHAQ' 'BANCO MILLER' 'BANCO DUNCAN' 'BANCO GLP'\n",
            " 'BANCO STEIN' 'BANCO KILI' 'BANCO KOBE' 'BANCO DURANT' 'BANCO AMARE'\n",
            " 'BANCO COLLINS' 'BANCO STOUDAMIRE' 'BANCO SBA' 'BANCO FINLEY, S.A.'\n",
            " 'BANCO MAGIC' 'BANCO BOX' 'BANCO ROSE' 'BANCO FEFO, S.A.'\n",
            " 'BANCO ENTRE RIOS' 'BANCO BIRD' 'BANCO PIANO' 'BANCO STEVENS'\n",
            " 'BANCO ANSWER' 'BANCO OBERT' 'BANCO FEFO S.A.' 'BANCO BAYLOR' 'BANCO LL'\n",
            " 'BANCO FINLEY' 'BANCO DUMARS' 'BANCO PIP' 'BANCO YAO' 'BANCO RODAMN'\n",
            " 'BANCO POP' 'BANCO SER' 'BANCO PHILY' 'BANCO ILI' 'BANCO DIRK' 'BANCO SF'\n",
            " 'BANCO BULL']\n",
            "['AR' 'US' 'GB' 'PH' 'TW' 'CO' 'NI' 'CA' 'GI' 'ES' 'IE' 'PL' 'UY' 'IN'\n",
            " 'IT' 'JP' 'KE' 'PY' 'BR' 'AE' 'PT' 'MX' 'CH' 'KR' 'NG' 'CL' 'EC' 'FR'\n",
            " 'PA' 'CR' 'AU' 'GT' 'BG' 'DK' 'ID' 'SE' 'EG' 'TC' 'WS' 'PR' 'SN' 'TZ'\n",
            " 'BE' 'TN' 'BD' 'MU' 'NO' 'LT' 'DE' 'GE' 'NL' 'KG' 'PE' 'NZ' 'VE' 'AT'\n",
            " 'ZA']\n",
            "['CREDIT' 'DEBIT']\n",
            "['REJECTED' 'APPROVED']\n",
            "[ 9  1 12  2  6  3]\n"
          ]
        }
      ]
    },
    {
      "cell_type": "code",
      "source": [
        "#See number of categorical values per column\n",
        "print(df['Payment Method'].nunique())\n",
        "print(df['Payment Method Name'].nunique())\n",
        "print(df['Payment Method Type'].unique())\n",
        "print(df['Card Issuer Name'].nunique())\n",
        "print(df['Card Issuer Country'].nunique())\n",
        "print(df['Card Type'].unique())\n",
        "print(df['Status'].unique())\n",
        "print(df['Installments'].unique())"
      ],
      "metadata": {
        "colab": {
          "base_uri": "https://localhost:8080/"
        },
        "id": "Xp4LoUQGBfQ_",
        "outputId": "0c201039-f170-432e-d280-fed6fc1671d4"
      },
      "execution_count": null,
      "outputs": [
        {
          "output_type": "stream",
          "name": "stdout",
          "text": [
            "18\n",
            "18\n",
            "['CREDIT_CARD' 'DEBIT_CARD']\n",
            "74\n",
            "57\n",
            "['CREDIT' 'DEBIT']\n",
            "['REJECTED' 'APPROVED']\n",
            "[ 9  1 12  2  6  3]\n"
          ]
        }
      ]
    },
    {
      "cell_type": "code",
      "source": [
        "# Verify that the columns have the same information\n",
        "# Payment Method Type vs Card Type\n",
        "credit = df['Payment Method Type'] == 'CREDIT_CARD'\n",
        "debit = df['Payment Method Type'] == 'DEBIT_CARD'\n",
        "\n",
        "# CREDIT_CARD y CREDIT\n",
        "if (df.loc[credit, 'Card Type'] == 'CREDIT').all():\n",
        "    print(\"Credit: Columns have the same information\")\n",
        "else:\n",
        "    print(\"Credit: Columns don't have the same information\")\n",
        "\n",
        "# DEBIT_CARD y DEBIT\n",
        "if (df.loc[debit, 'Card Type'] == 'DEBIT').all():\n",
        "    print(\"Debit: Columns have the same information\")\n",
        "else:\n",
        "    print(\"Debit: Columns don't have the same information\")"
      ],
      "metadata": {
        "colab": {
          "base_uri": "https://localhost:8080/"
        },
        "id": "Sp3RJrOSTXrw",
        "outputId": "1c470c03-4920-45be-b3a0-130c1701530f"
      },
      "execution_count": null,
      "outputs": [
        {
          "output_type": "stream",
          "name": "stdout",
          "text": [
            "Credit: Columns have the same information\n",
            "Debit: Columns have the same information\n"
          ]
        }
      ]
    },
    {
      "cell_type": "code",
      "source": [
        "# Drop not usefull columns\n",
        "df = df.drop(columns=['Invoice', 'Card BIN', 'Payment Method Type','Payment Method'])\n",
        "df.info()"
      ],
      "metadata": {
        "colab": {
          "base_uri": "https://localhost:8080/"
        },
        "id": "2VSXjl3PTYQ3",
        "outputId": "af0711ee-ddc8-47c8-e209-33c8489b468d"
      },
      "execution_count": null,
      "outputs": [
        {
          "output_type": "stream",
          "name": "stdout",
          "text": [
            "<class 'pandas.core.frame.DataFrame'>\n",
            "RangeIndex: 39474 entries, 0 to 39473\n",
            "Data columns (total 9 columns):\n",
            " #   Column               Non-Null Count  Dtype         \n",
            "---  ------               --------------  -----         \n",
            " 0   Date                 39474 non-null  datetime64[ns]\n",
            " 1   Amount               39474 non-null  float64       \n",
            " 2   Payment Method Name  39474 non-null  object        \n",
            " 3   Email                39474 non-null  object        \n",
            " 4   Card Issuer Name     39474 non-null  object        \n",
            " 5   Card Issuer Country  39474 non-null  object        \n",
            " 6   Card Type            39474 non-null  object        \n",
            " 7   Installments         39474 non-null  int64         \n",
            " 8   Status               39474 non-null  object        \n",
            "dtypes: datetime64[ns](1), float64(1), int64(1), object(6)\n",
            "memory usage: 2.7+ MB\n"
          ]
        }
      ]
    },
    {
      "cell_type": "markdown",
      "source": [
        "# Conversion Rate"
      ],
      "metadata": {
        "id": "c9yfDsFzTaMe"
      }
    },
    {
      "cell_type": "code",
      "source": [
        "#Number of rejected values\n",
        "sum_rejected = (df['Status'] == 'REJECTED').sum()\n",
        "sum_rejected"
      ],
      "metadata": {
        "colab": {
          "base_uri": "https://localhost:8080/"
        },
        "id": "N5MMM1G8ERNo",
        "outputId": "d2ac2979-8098-4524-c841-7418e9d25d16"
      },
      "execution_count": null,
      "outputs": [
        {
          "output_type": "execute_result",
          "data": {
            "text/plain": [
              "14048"
            ]
          },
          "metadata": {},
          "execution_count": 44
        }
      ]
    },
    {
      "cell_type": "code",
      "source": [
        "#Number of approved values\n",
        "sum_approved = (df['Status'] == 'APPROVED').sum()\n",
        "sum_approved"
      ],
      "metadata": {
        "colab": {
          "base_uri": "https://localhost:8080/"
        },
        "id": "66C-w7i_EokK",
        "outputId": "29e875ac-4e2a-4814-e112-231586900a00"
      },
      "execution_count": null,
      "outputs": [
        {
          "output_type": "execute_result",
          "data": {
            "text/plain": [
              "25426"
            ]
          },
          "metadata": {},
          "execution_count": 45
        }
      ]
    },
    {
      "cell_type": "code",
      "source": [
        "#Overall CR\n",
        "25426*100/39474"
      ],
      "metadata": {
        "colab": {
          "base_uri": "https://localhost:8080/"
        },
        "id": "thFTodLtEvq0",
        "outputId": "4bcf3b87-e354-4440-9cdc-189e27b0c06b"
      },
      "execution_count": null,
      "outputs": [
        {
          "output_type": "execute_result",
          "data": {
            "text/plain": [
              "64.41201803718904"
            ]
          },
          "metadata": {},
          "execution_count": 46
        }
      ]
    },
    {
      "cell_type": "code",
      "source": [
        "# 'APROVED' and 'REJECTED' groupby 'Payment Method Name'\n",
        "results = df.groupby('Payment Method Name')['Status'].value_counts().unstack(fill_value=0)\n",
        "results['Conversion Rate'] = results['APPROVED']*100 / (results['APPROVED'] + results['REJECTED'])\n",
        "# Mostrar los resultados\n",
        "print(results)"
      ],
      "metadata": {
        "colab": {
          "base_uri": "https://localhost:8080/"
        },
        "id": "GAknCExKTh2B",
        "outputId": "662d604d-54ac-493d-e790-3fb8f1d1d91f"
      },
      "execution_count": null,
      "outputs": [
        {
          "output_type": "stream",
          "name": "stdout",
          "text": [
            "Status               APPROVED  REJECTED  Conversion Rate\n",
            "Payment Method Name                                     \n",
            "American Express         1776      1119        61.347150\n",
            "Argencard                   2         1        66.666667\n",
            "CMR                        47        38        55.294118\n",
            "Cabal                     100        72        58.139535\n",
            "Cabal Debito                6       127         4.511278\n",
            "Cordial                    14        10        58.333333\n",
            "Cordobesa                  81        53        60.447761\n",
            "Diners Club                10         9        52.631579\n",
            "Discover                    0         1         0.000000\n",
            "Elo                         0         2         0.000000\n",
            "JCB                         0         2         0.000000\n",
            "Maestro                   163       130        55.631399\n",
            "MasterCard Debit          640       316        66.945607\n",
            "Mastercard               2791      1651        62.832058\n",
            "Naranja                   583       753        43.637725\n",
            "Nativa                    231       113        67.151163\n",
            "Visa                    17178      8600        66.638219\n",
            "Visa Debit               1804      1051        63.187391\n"
          ]
        }
      ]
    },
    {
      "cell_type": "code",
      "source": [
        "#Nativa transaction percentage:\n",
        "(213+113)*100/39474"
      ],
      "metadata": {
        "colab": {
          "base_uri": "https://localhost:8080/"
        },
        "id": "MAtmP6-1Th-I",
        "outputId": "f4b120f2-fec7-4efa-b139-81ffbd3c137a"
      },
      "execution_count": null,
      "outputs": [
        {
          "output_type": "execute_result",
          "data": {
            "text/plain": [
              "0.8258600597861884"
            ]
          },
          "metadata": {},
          "execution_count": 48
        }
      ]
    },
    {
      "cell_type": "code",
      "source": [
        "#Visa transaction percentage:\n",
        "(17178+8600)*100/39474"
      ],
      "metadata": {
        "colab": {
          "base_uri": "https://localhost:8080/"
        },
        "id": "n1FFejNfTiFy",
        "outputId": "f40a9caa-4a81-4c16-a208-ad65dc4a802e"
      },
      "execution_count": null,
      "outputs": [
        {
          "output_type": "execute_result",
          "data": {
            "text/plain": [
              "65.30374423671277"
            ]
          },
          "metadata": {},
          "execution_count": 49
        }
      ]
    },
    {
      "cell_type": "code",
      "source": [
        "#Mastercard transaction percentage:\n",
        "(2791+1651)*100/39474"
      ],
      "metadata": {
        "colab": {
          "base_uri": "https://localhost:8080/"
        },
        "id": "u7UbVfYcUENt",
        "outputId": "56f826aa-ccd9-4343-9241-40b3483d9c98"
      },
      "execution_count": null,
      "outputs": [
        {
          "output_type": "execute_result",
          "data": {
            "text/plain": [
              "11.252976642853524"
            ]
          },
          "metadata": {},
          "execution_count": 50
        }
      ]
    },
    {
      "cell_type": "markdown",
      "source": [
        "# Payment Method Issues by month"
      ],
      "metadata": {
        "id": "3nz5VmiGZ4k0"
      }
    },
    {
      "cell_type": "code",
      "source": [
        "# Filter data for each month and count approved and rejected\n",
        "results = df.groupby(['Payment Method Name', df['Date'].dt.month])['Status'].value_counts().unstack(fill_value=0)\n",
        "\n",
        "# Calculate conversion ratio in percentage\n",
        "results['Conversion Rate'] = (results['APPROVED'] / (results['APPROVED'] + results['REJECTED'])) * 100\n",
        "\n",
        "# Rearrange the DataFrame\n",
        "results = results.unstack().rename({3: 'March', 4: 'April', 5: 'May'}, axis=1)\n",
        "\n",
        "# Show the results\n",
        "print(results)"
      ],
      "metadata": {
        "colab": {
          "base_uri": "https://localhost:8080/"
        },
        "id": "DsqqcCO_UEP-",
        "outputId": "9f93959b-6f81-4be6-e467-ea1da0700207"
      },
      "execution_count": null,
      "outputs": [
        {
          "output_type": "stream",
          "name": "stdout",
          "text": [
            "Status              APPROVED                 REJECTED                  \\\n",
            "Date                   March   April     May    March   April     May   \n",
            "Payment Method Name                                                     \n",
            "American Express       405.0   809.0   562.0    376.0   499.0   244.0   \n",
            "Argencard                2.0     NaN     NaN      1.0     NaN     NaN   \n",
            "CMR                     26.0    10.0    11.0     12.0     6.0    20.0   \n",
            "Cabal                   32.0    25.0    43.0     27.0    15.0    30.0   \n",
            "Cabal Debito             6.0     0.0     0.0     22.0    26.0    79.0   \n",
            "Cordial                  4.0     5.0     5.0      1.0     5.0     4.0   \n",
            "Cordobesa               28.0    21.0    32.0     12.0    18.0    23.0   \n",
            "Diners Club              3.0     5.0     2.0      2.0     2.0     5.0   \n",
            "Discover                 NaN     NaN     0.0      NaN     NaN     1.0   \n",
            "Elo                      0.0     NaN     0.0      1.0     NaN     1.0   \n",
            "JCB                      0.0     0.0     NaN      1.0     1.0     NaN   \n",
            "Maestro                 59.0    49.0    55.0     66.0    38.0    26.0   \n",
            "MasterCard Debit       248.0   195.0   197.0    134.0    80.0   102.0   \n",
            "Mastercard             661.0   902.0  1228.0    794.0   378.0   479.0   \n",
            "Naranja                313.0     0.0   270.0    152.0   471.0   130.0   \n",
            "Nativa                  81.0    61.0    89.0     41.0    39.0    33.0   \n",
            "Visa                  5136.0  4515.0  7527.0   4304.0  1874.0  2422.0   \n",
            "Visa Debit             560.0   531.0   713.0    440.0   223.0   388.0   \n",
            "\n",
            "Status              Conversion Rate                        \n",
            "Date                          March      April        May  \n",
            "Payment Method Name                                        \n",
            "American Express          51.856594  61.850153  69.727047  \n",
            "Argencard                 66.666667        NaN        NaN  \n",
            "CMR                       68.421053  62.500000  35.483871  \n",
            "Cabal                     54.237288  62.500000  58.904110  \n",
            "Cabal Debito              21.428571   0.000000   0.000000  \n",
            "Cordial                   80.000000  50.000000  55.555556  \n",
            "Cordobesa                 70.000000  53.846154  58.181818  \n",
            "Diners Club               60.000000  71.428571  28.571429  \n",
            "Discover                        NaN        NaN   0.000000  \n",
            "Elo                        0.000000        NaN   0.000000  \n",
            "JCB                        0.000000   0.000000        NaN  \n",
            "Maestro                   47.200000  56.321839  67.901235  \n",
            "MasterCard Debit          64.921466  70.909091  65.886288  \n",
            "Mastercard                45.429553  70.468750  71.939074  \n",
            "Naranja                   67.311828   0.000000  67.500000  \n",
            "Nativa                    66.393443  61.000000  72.950820  \n",
            "Visa                      54.406780  70.668336  75.655845  \n",
            "Visa Debit                56.000000  70.424403  64.759310  \n"
          ]
        }
      ]
    },
    {
      "cell_type": "markdown",
      "source": [
        "# Paid transactions by date"
      ],
      "metadata": {
        "id": "7u2JdSCiZ9ds"
      }
    },
    {
      "cell_type": "code",
      "source": [
        "# We keep in the date column, only the day, without time\n",
        "df['Date'] = df['Date'].dt.date"
      ],
      "metadata": {
        "id": "Y2Jg9VIoXEy7"
      },
      "execution_count": null,
      "outputs": []
    },
    {
      "cell_type": "code",
      "source": [
        "# Count transactions by date and by Status\n",
        "transactions = df.groupby(['Date', 'Status']).size().unstack(fill_value=0)\n",
        "\n",
        "# Add column with total transactions\n",
        "transactions['Total'] = transactions.sum(axis=1)\n",
        "\n",
        "# Sort the DataFrame by the 'Total' column from highest to lowest\n",
        "transactions = transactions.sort_values(by='APPROVED', ascending=False)\n",
        "\n",
        "# Show the results\n",
        "print(transactions)"
      ],
      "metadata": {
        "colab": {
          "base_uri": "https://localhost:8080/"
        },
        "id": "exHLpbFyUESg",
        "outputId": "6583e7a8-1949-4104-c8fb-1b1d857087f2"
      },
      "execution_count": null,
      "outputs": [
        {
          "output_type": "stream",
          "name": "stdout",
          "text": [
            "Status      APPROVED  REJECTED  Total\n",
            "Date                                 \n",
            "2021-05-11       893       295   1188\n",
            "2021-05-12       857       297   1154\n",
            "2021-05-10       735       262    997\n",
            "2021-05-13       622       230    852\n",
            "2021-05-28       533       128    661\n",
            "...              ...       ...    ...\n",
            "2021-04-24       135        55    190\n",
            "2021-03-06       134        84    218\n",
            "2021-04-03       133        66    199\n",
            "2021-03-07       133        93    226\n",
            "2021-04-17       116        95    211\n",
            "\n",
            "[92 rows x 3 columns]\n"
          ]
        }
      ]
    },
    {
      "cell_type": "markdown",
      "source": [
        "# Ticket prices"
      ],
      "metadata": {
        "id": "P68E2YpsaCh0"
      }
    },
    {
      "cell_type": "code",
      "source": [
        "# Calculate the average amount\n",
        "av_amount = df['Amount '].mean()\n",
        "\n",
        "av_amount"
      ],
      "metadata": {
        "colab": {
          "base_uri": "https://localhost:8080/"
        },
        "id": "f-cukbm0UEU-",
        "outputId": "e2684a91-c6cc-42fa-fc78-96876403a1bb"
      },
      "execution_count": null,
      "outputs": [
        {
          "output_type": "execute_result",
          "data": {
            "text/plain": [
              "215.23813472158886"
            ]
          },
          "metadata": {},
          "execution_count": 54
        }
      ]
    },
    {
      "cell_type": "code",
      "source": [
        "# Calculate the average amount by APP and REJ\n",
        "av_by_Status = df.groupby('Status')['Amount '].mean()\n",
        "\n",
        "# Show the results\n",
        "print(av_by_Status)"
      ],
      "metadata": {
        "colab": {
          "base_uri": "https://localhost:8080/"
        },
        "id": "tIMucTL6UEXd",
        "outputId": "1f0c01f4-2441-4090-f20e-69d38ad91d6e"
      },
      "execution_count": null,
      "outputs": [
        {
          "output_type": "stream",
          "name": "stdout",
          "text": [
            "Status\n",
            "APPROVED    131.334394\n",
            "REJECTED    367.098650\n",
            "Name: Amount , dtype: float64\n"
          ]
        }
      ]
    },
    {
      "cell_type": "code",
      "source": [
        "# Calculate the average amount by debit and credit\n",
        "av_by_card_type = df.groupby('Card Type')['Amount '].mean()\n",
        "\n",
        "# Show the results\n",
        "print(av_by_card_type)"
      ],
      "metadata": {
        "colab": {
          "base_uri": "https://localhost:8080/"
        },
        "id": "v_KYlZaEUEZy",
        "outputId": "916fe485-f1c0-407c-cbbe-08486fa7bf88"
      },
      "execution_count": null,
      "outputs": [
        {
          "output_type": "stream",
          "name": "stdout",
          "text": [
            "Card Type\n",
            "CREDIT    219.574194\n",
            "DEBIT     179.177307\n",
            "Name: Amount , dtype: float64\n"
          ]
        }
      ]
    },
    {
      "cell_type": "code",
      "source": [
        "# Count how many transactions are credit and how many are debit\n",
        "count_card_type = df['Card Type'].value_counts()\n",
        "\n",
        "# Show the results\n",
        "print(count_card_type)"
      ],
      "metadata": {
        "colab": {
          "base_uri": "https://localhost:8080/"
        },
        "id": "ODtkMT1cUEcX",
        "outputId": "e52c2920-92b3-4ec9-f56a-9a2bdcf757b2"
      },
      "execution_count": null,
      "outputs": [
        {
          "output_type": "stream",
          "name": "stdout",
          "text": [
            "CREDIT    35237\n",
            "DEBIT      4237\n",
            "Name: Card Type, dtype: int64\n"
          ]
        }
      ]
    },
    {
      "cell_type": "markdown",
      "source": [
        "# Highest Average Ticket Price"
      ],
      "metadata": {
        "id": "yCHR31c7aINp"
      }
    },
    {
      "cell_type": "code",
      "source": [
        "# Calculate the average amount APP and REJ by Payment Mehod Name\n",
        "av_amount_by_payment_method = df.groupby('Payment Method Name')['Amount '].mean()\n",
        "\n",
        "av_amount_by_payment_method = av_amount_by_payment_method.sort_values(ascending=False)\n",
        "\n",
        "# Show the results\n",
        "print(av_amount_by_payment_method)"
      ],
      "metadata": {
        "colab": {
          "base_uri": "https://localhost:8080/"
        },
        "id": "c5W4cgZJUEfC",
        "outputId": "fe70cc96-a343-4948-cea0-bbb55a5108da"
      },
      "execution_count": null,
      "outputs": [
        {
          "output_type": "stream",
          "name": "stdout",
          "text": [
            "Payment Method Name\n",
            "Discover            3147.770000\n",
            "Maestro              291.232594\n",
            "Diners Club          284.170526\n",
            "American Express     240.888193\n",
            "Visa                 222.313305\n",
            "Argencard            220.563333\n",
            "Mastercard           210.110011\n",
            "Naranja              185.199139\n",
            "Cordobesa            176.624776\n",
            "MasterCard Debit     175.753692\n",
            "Nativa               172.424041\n",
            "Visa Debit           169.867517\n",
            "Cabal Debito         156.773008\n",
            "Cabal                151.238314\n",
            "Cordial              140.627917\n",
            "Elo                  129.065000\n",
            "CMR                   73.946706\n",
            "JCB                   57.755000\n",
            "Name: Amount , dtype: float64\n"
          ]
        }
      ]
    },
    {
      "cell_type": "code",
      "source": [
        "# Analyze Discover payments\n",
        "Discover_df = df[df['Payment Method Name'] == 'Discover']\n",
        "Discover_df = Discover_df[['Amount ','Card Issuer Country']]\n",
        "\n",
        "# Show\n",
        "print(Discover_df.groupby('Card Issuer Country').count())"
      ],
      "metadata": {
        "colab": {
          "base_uri": "https://localhost:8080/"
        },
        "id": "Uqjc5yBvgpa1",
        "outputId": "a8527b7c-6597-405e-91fd-4280f3a9eed8"
      },
      "execution_count": null,
      "outputs": [
        {
          "output_type": "stream",
          "name": "stdout",
          "text": [
            "                     Amount \n",
            "Card Issuer Country         \n",
            "US                         1\n"
          ]
        }
      ]
    },
    {
      "cell_type": "markdown",
      "source": [
        "# Users Issues"
      ],
      "metadata": {
        "id": "431unLIsaMWF"
      }
    },
    {
      "cell_type": "code",
      "source": [
        "# Create a pivot table to count the number of 'APPROVED' and 'REJECTED' per user\n",
        "tabla_pivote = df.pivot_table(index='Email', columns='Status', values='Amount ', aggfunc='count', fill_value=0)\n",
        "\n",
        "# Rename columns for clarity\n",
        "tabla_pivote.columns = [f'{status}_Count' for status in tabla_pivote.columns]\n",
        "\n",
        "# Sort by 'REJECTED_Count' from highest to lowest\n",
        "tabla_pivote = tabla_pivote.sort_values(by='REJECTED_Count', ascending=False)\n",
        "\n",
        "# Show\n",
        "tabla_pivote"
      ],
      "metadata": {
        "colab": {
          "base_uri": "https://localhost:8080/",
          "height": 475
        },
        "id": "MfKwJCggYK6M",
        "outputId": "b285397e-ef3c-4bdf-fe0c-3a012ef3f0ed"
      },
      "execution_count": null,
      "outputs": [
        {
          "output_type": "execute_result",
          "data": {
            "text/plain": [
              "                                                    APPROVED_Count  \\\n",
              "Email                                                                \n",
              "noieielitataifrtatandieie@ifmtatail.com                          1   \n",
              "dobinns@tataloc.com                                              0   \n",
              "fieierrieieirtata_britatan@pohmtatail.com                       11   \n",
              "hieiector@vodnik.com                                             1   \n",
              "hpieierieieyrtatazspuytataifoztata@ytatahoo.com...               2   \n",
              "...                                                            ...   \n",
              "jimieientatabiurrun@pohmtatail.com                               1   \n",
              "jimieientata.fustieier@pohmtatail.com                            1   \n",
              "jimieienittataifomieieztata@ifmtatail.com                        1   \n",
              "jimieiemtataieiest15@ifmtatail.com                               1   \n",
              "zxftatabyxz@ifmtatail.com                                        1   \n",
              "\n",
              "                                                    REJECTED_Count  \n",
              "Email                                                               \n",
              "noieielitataifrtatandieie@ifmtatail.com                        156  \n",
              "dobinns@tataloc.com                                            135  \n",
              "fieierrieieirtata_britatan@pohmtatail.com                       89  \n",
              "hieiector@vodnik.com                                            70  \n",
              "hpieierieieyrtatazspuytataifoztata@ytatahoo.com...              67  \n",
              "...                                                            ...  \n",
              "jimieientatabiurrun@pohmtatail.com                               0  \n",
              "jimieientata.fustieier@pohmtatail.com                            0  \n",
              "jimieienittataifomieieztata@ifmtatail.com                        0  \n",
              "jimieiemtataieiest15@ifmtatail.com                               0  \n",
              "zxftatabyxz@ifmtatail.com                                        0  \n",
              "\n",
              "[23861 rows x 2 columns]"
            ],
            "text/html": [
              "\n",
              "  <div id=\"df-0d3daf3e-a6e7-44c4-a697-b9aa1c213645\" class=\"colab-df-container\">\n",
              "    <div>\n",
              "<style scoped>\n",
              "    .dataframe tbody tr th:only-of-type {\n",
              "        vertical-align: middle;\n",
              "    }\n",
              "\n",
              "    .dataframe tbody tr th {\n",
              "        vertical-align: top;\n",
              "    }\n",
              "\n",
              "    .dataframe thead th {\n",
              "        text-align: right;\n",
              "    }\n",
              "</style>\n",
              "<table border=\"1\" class=\"dataframe\">\n",
              "  <thead>\n",
              "    <tr style=\"text-align: right;\">\n",
              "      <th></th>\n",
              "      <th>APPROVED_Count</th>\n",
              "      <th>REJECTED_Count</th>\n",
              "    </tr>\n",
              "    <tr>\n",
              "      <th>Email</th>\n",
              "      <th></th>\n",
              "      <th></th>\n",
              "    </tr>\n",
              "  </thead>\n",
              "  <tbody>\n",
              "    <tr>\n",
              "      <th>noieielitataifrtatandieie@ifmtatail.com</th>\n",
              "      <td>1</td>\n",
              "      <td>156</td>\n",
              "    </tr>\n",
              "    <tr>\n",
              "      <th>dobinns@tataloc.com</th>\n",
              "      <td>0</td>\n",
              "      <td>135</td>\n",
              "    </tr>\n",
              "    <tr>\n",
              "      <th>fieierrieieirtata_britatan@pohmtatail.com</th>\n",
              "      <td>11</td>\n",
              "      <td>89</td>\n",
              "    </tr>\n",
              "    <tr>\n",
              "      <th>hieiector@vodnik.com</th>\n",
              "      <td>1</td>\n",
              "      <td>70</td>\n",
              "    </tr>\n",
              "    <tr>\n",
              "      <th>hpieierieieyrtatazspuytataifoztata@ytatahoo.com.spuy</th>\n",
              "      <td>2</td>\n",
              "      <td>67</td>\n",
              "    </tr>\n",
              "    <tr>\n",
              "      <th>...</th>\n",
              "      <td>...</td>\n",
              "      <td>...</td>\n",
              "    </tr>\n",
              "    <tr>\n",
              "      <th>jimieientatabiurrun@pohmtatail.com</th>\n",
              "      <td>1</td>\n",
              "      <td>0</td>\n",
              "    </tr>\n",
              "    <tr>\n",
              "      <th>jimieientata.fustieier@pohmtatail.com</th>\n",
              "      <td>1</td>\n",
              "      <td>0</td>\n",
              "    </tr>\n",
              "    <tr>\n",
              "      <th>jimieienittataifomieieztata@ifmtatail.com</th>\n",
              "      <td>1</td>\n",
              "      <td>0</td>\n",
              "    </tr>\n",
              "    <tr>\n",
              "      <th>jimieiemtataieiest15@ifmtatail.com</th>\n",
              "      <td>1</td>\n",
              "      <td>0</td>\n",
              "    </tr>\n",
              "    <tr>\n",
              "      <th>zxftatabyxz@ifmtatail.com</th>\n",
              "      <td>1</td>\n",
              "      <td>0</td>\n",
              "    </tr>\n",
              "  </tbody>\n",
              "</table>\n",
              "<p>23861 rows × 2 columns</p>\n",
              "</div>\n",
              "    <div class=\"colab-df-buttons\">\n",
              "\n",
              "  <div class=\"colab-df-container\">\n",
              "    <button class=\"colab-df-convert\" onclick=\"convertToInteractive('df-0d3daf3e-a6e7-44c4-a697-b9aa1c213645')\"\n",
              "            title=\"Convert this dataframe to an interactive table.\"\n",
              "            style=\"display:none;\">\n",
              "\n",
              "  <svg xmlns=\"http://www.w3.org/2000/svg\" height=\"24px\" viewBox=\"0 -960 960 960\">\n",
              "    <path d=\"M120-120v-720h720v720H120Zm60-500h600v-160H180v160Zm220 220h160v-160H400v160Zm0 220h160v-160H400v160ZM180-400h160v-160H180v160Zm440 0h160v-160H620v160ZM180-180h160v-160H180v160Zm440 0h160v-160H620v160Z\"/>\n",
              "  </svg>\n",
              "    </button>\n",
              "\n",
              "  <style>\n",
              "    .colab-df-container {\n",
              "      display:flex;\n",
              "      gap: 12px;\n",
              "    }\n",
              "\n",
              "    .colab-df-convert {\n",
              "      background-color: #E8F0FE;\n",
              "      border: none;\n",
              "      border-radius: 50%;\n",
              "      cursor: pointer;\n",
              "      display: none;\n",
              "      fill: #1967D2;\n",
              "      height: 32px;\n",
              "      padding: 0 0 0 0;\n",
              "      width: 32px;\n",
              "    }\n",
              "\n",
              "    .colab-df-convert:hover {\n",
              "      background-color: #E2EBFA;\n",
              "      box-shadow: 0px 1px 2px rgba(60, 64, 67, 0.3), 0px 1px 3px 1px rgba(60, 64, 67, 0.15);\n",
              "      fill: #174EA6;\n",
              "    }\n",
              "\n",
              "    .colab-df-buttons div {\n",
              "      margin-bottom: 4px;\n",
              "    }\n",
              "\n",
              "    [theme=dark] .colab-df-convert {\n",
              "      background-color: #3B4455;\n",
              "      fill: #D2E3FC;\n",
              "    }\n",
              "\n",
              "    [theme=dark] .colab-df-convert:hover {\n",
              "      background-color: #434B5C;\n",
              "      box-shadow: 0px 1px 3px 1px rgba(0, 0, 0, 0.15);\n",
              "      filter: drop-shadow(0px 1px 2px rgba(0, 0, 0, 0.3));\n",
              "      fill: #FFFFFF;\n",
              "    }\n",
              "  </style>\n",
              "\n",
              "    <script>\n",
              "      const buttonEl =\n",
              "        document.querySelector('#df-0d3daf3e-a6e7-44c4-a697-b9aa1c213645 button.colab-df-convert');\n",
              "      buttonEl.style.display =\n",
              "        google.colab.kernel.accessAllowed ? 'block' : 'none';\n",
              "\n",
              "      async function convertToInteractive(key) {\n",
              "        const element = document.querySelector('#df-0d3daf3e-a6e7-44c4-a697-b9aa1c213645');\n",
              "        const dataTable =\n",
              "          await google.colab.kernel.invokeFunction('convertToInteractive',\n",
              "                                                    [key], {});\n",
              "        if (!dataTable) return;\n",
              "\n",
              "        const docLinkHtml = 'Like what you see? Visit the ' +\n",
              "          '<a target=\"_blank\" href=https://colab.research.google.com/notebooks/data_table.ipynb>data table notebook</a>'\n",
              "          + ' to learn more about interactive tables.';\n",
              "        element.innerHTML = '';\n",
              "        dataTable['output_type'] = 'display_data';\n",
              "        await google.colab.output.renderOutput(dataTable, element);\n",
              "        const docLink = document.createElement('div');\n",
              "        docLink.innerHTML = docLinkHtml;\n",
              "        element.appendChild(docLink);\n",
              "      }\n",
              "    </script>\n",
              "  </div>\n",
              "\n",
              "\n",
              "<div id=\"df-038cd2c8-c871-4df2-a479-4c0cfe417849\">\n",
              "  <button class=\"colab-df-quickchart\" onclick=\"quickchart('df-038cd2c8-c871-4df2-a479-4c0cfe417849')\"\n",
              "            title=\"Suggest charts\"\n",
              "            style=\"display:none;\">\n",
              "\n",
              "<svg xmlns=\"http://www.w3.org/2000/svg\" height=\"24px\"viewBox=\"0 0 24 24\"\n",
              "     width=\"24px\">\n",
              "    <g>\n",
              "        <path d=\"M19 3H5c-1.1 0-2 .9-2 2v14c0 1.1.9 2 2 2h14c1.1 0 2-.9 2-2V5c0-1.1-.9-2-2-2zM9 17H7v-7h2v7zm4 0h-2V7h2v10zm4 0h-2v-4h2v4z\"/>\n",
              "    </g>\n",
              "</svg>\n",
              "  </button>\n",
              "\n",
              "<style>\n",
              "  .colab-df-quickchart {\n",
              "      --bg-color: #E8F0FE;\n",
              "      --fill-color: #1967D2;\n",
              "      --hover-bg-color: #E2EBFA;\n",
              "      --hover-fill-color: #174EA6;\n",
              "      --disabled-fill-color: #AAA;\n",
              "      --disabled-bg-color: #DDD;\n",
              "  }\n",
              "\n",
              "  [theme=dark] .colab-df-quickchart {\n",
              "      --bg-color: #3B4455;\n",
              "      --fill-color: #D2E3FC;\n",
              "      --hover-bg-color: #434B5C;\n",
              "      --hover-fill-color: #FFFFFF;\n",
              "      --disabled-bg-color: #3B4455;\n",
              "      --disabled-fill-color: #666;\n",
              "  }\n",
              "\n",
              "  .colab-df-quickchart {\n",
              "    background-color: var(--bg-color);\n",
              "    border: none;\n",
              "    border-radius: 50%;\n",
              "    cursor: pointer;\n",
              "    display: none;\n",
              "    fill: var(--fill-color);\n",
              "    height: 32px;\n",
              "    padding: 0;\n",
              "    width: 32px;\n",
              "  }\n",
              "\n",
              "  .colab-df-quickchart:hover {\n",
              "    background-color: var(--hover-bg-color);\n",
              "    box-shadow: 0 1px 2px rgba(60, 64, 67, 0.3), 0 1px 3px 1px rgba(60, 64, 67, 0.15);\n",
              "    fill: var(--button-hover-fill-color);\n",
              "  }\n",
              "\n",
              "  .colab-df-quickchart-complete:disabled,\n",
              "  .colab-df-quickchart-complete:disabled:hover {\n",
              "    background-color: var(--disabled-bg-color);\n",
              "    fill: var(--disabled-fill-color);\n",
              "    box-shadow: none;\n",
              "  }\n",
              "\n",
              "  .colab-df-spinner {\n",
              "    border: 2px solid var(--fill-color);\n",
              "    border-color: transparent;\n",
              "    border-bottom-color: var(--fill-color);\n",
              "    animation:\n",
              "      spin 1s steps(1) infinite;\n",
              "  }\n",
              "\n",
              "  @keyframes spin {\n",
              "    0% {\n",
              "      border-color: transparent;\n",
              "      border-bottom-color: var(--fill-color);\n",
              "      border-left-color: var(--fill-color);\n",
              "    }\n",
              "    20% {\n",
              "      border-color: transparent;\n",
              "      border-left-color: var(--fill-color);\n",
              "      border-top-color: var(--fill-color);\n",
              "    }\n",
              "    30% {\n",
              "      border-color: transparent;\n",
              "      border-left-color: var(--fill-color);\n",
              "      border-top-color: var(--fill-color);\n",
              "      border-right-color: var(--fill-color);\n",
              "    }\n",
              "    40% {\n",
              "      border-color: transparent;\n",
              "      border-right-color: var(--fill-color);\n",
              "      border-top-color: var(--fill-color);\n",
              "    }\n",
              "    60% {\n",
              "      border-color: transparent;\n",
              "      border-right-color: var(--fill-color);\n",
              "    }\n",
              "    80% {\n",
              "      border-color: transparent;\n",
              "      border-right-color: var(--fill-color);\n",
              "      border-bottom-color: var(--fill-color);\n",
              "    }\n",
              "    90% {\n",
              "      border-color: transparent;\n",
              "      border-bottom-color: var(--fill-color);\n",
              "    }\n",
              "  }\n",
              "</style>\n",
              "\n",
              "  <script>\n",
              "    async function quickchart(key) {\n",
              "      const quickchartButtonEl =\n",
              "        document.querySelector('#' + key + ' button');\n",
              "      quickchartButtonEl.disabled = true;  // To prevent multiple clicks.\n",
              "      quickchartButtonEl.classList.add('colab-df-spinner');\n",
              "      try {\n",
              "        const charts = await google.colab.kernel.invokeFunction(\n",
              "            'suggestCharts', [key], {});\n",
              "      } catch (error) {\n",
              "        console.error('Error during call to suggestCharts:', error);\n",
              "      }\n",
              "      quickchartButtonEl.classList.remove('colab-df-spinner');\n",
              "      quickchartButtonEl.classList.add('colab-df-quickchart-complete');\n",
              "    }\n",
              "    (() => {\n",
              "      let quickchartButtonEl =\n",
              "        document.querySelector('#df-038cd2c8-c871-4df2-a479-4c0cfe417849 button');\n",
              "      quickchartButtonEl.style.display =\n",
              "        google.colab.kernel.accessAllowed ? 'block' : 'none';\n",
              "    })();\n",
              "  </script>\n",
              "</div>\n",
              "\n",
              "  <div id=\"id_8bc325cf-174d-4980-a2a3-fd002de7b04c\">\n",
              "    <style>\n",
              "      .colab-df-generate {\n",
              "        background-color: #E8F0FE;\n",
              "        border: none;\n",
              "        border-radius: 50%;\n",
              "        cursor: pointer;\n",
              "        display: none;\n",
              "        fill: #1967D2;\n",
              "        height: 32px;\n",
              "        padding: 0 0 0 0;\n",
              "        width: 32px;\n",
              "      }\n",
              "\n",
              "      .colab-df-generate:hover {\n",
              "        background-color: #E2EBFA;\n",
              "        box-shadow: 0px 1px 2px rgba(60, 64, 67, 0.3), 0px 1px 3px 1px rgba(60, 64, 67, 0.15);\n",
              "        fill: #174EA6;\n",
              "      }\n",
              "\n",
              "      [theme=dark] .colab-df-generate {\n",
              "        background-color: #3B4455;\n",
              "        fill: #D2E3FC;\n",
              "      }\n",
              "\n",
              "      [theme=dark] .colab-df-generate:hover {\n",
              "        background-color: #434B5C;\n",
              "        box-shadow: 0px 1px 3px 1px rgba(0, 0, 0, 0.15);\n",
              "        filter: drop-shadow(0px 1px 2px rgba(0, 0, 0, 0.3));\n",
              "        fill: #FFFFFF;\n",
              "      }\n",
              "    </style>\n",
              "    <button class=\"colab-df-generate\" onclick=\"generateWithVariable('tabla_pivote')\"\n",
              "            title=\"Generate code using this dataframe.\"\n",
              "            style=\"display:none;\">\n",
              "\n",
              "  <svg xmlns=\"http://www.w3.org/2000/svg\" height=\"24px\"viewBox=\"0 0 24 24\"\n",
              "       width=\"24px\">\n",
              "    <path d=\"M7,19H8.4L18.45,9,17,7.55,7,17.6ZM5,21V16.75L18.45,3.32a2,2,0,0,1,2.83,0l1.4,1.43a1.91,1.91,0,0,1,.58,1.4,1.91,1.91,0,0,1-.58,1.4L9.25,21ZM18.45,9,17,7.55Zm-12,3A5.31,5.31,0,0,0,4.9,8.1,5.31,5.31,0,0,0,1,6.5,5.31,5.31,0,0,0,4.9,4.9,5.31,5.31,0,0,0,6.5,1,5.31,5.31,0,0,0,8.1,4.9,5.31,5.31,0,0,0,12,6.5,5.46,5.46,0,0,0,6.5,12Z\"/>\n",
              "  </svg>\n",
              "    </button>\n",
              "    <script>\n",
              "      (() => {\n",
              "      const buttonEl =\n",
              "        document.querySelector('#id_8bc325cf-174d-4980-a2a3-fd002de7b04c button.colab-df-generate');\n",
              "      buttonEl.style.display =\n",
              "        google.colab.kernel.accessAllowed ? 'block' : 'none';\n",
              "\n",
              "      buttonEl.onclick = () => {\n",
              "        google.colab.notebook.generateWithVariable('tabla_pivote');\n",
              "      }\n",
              "      })();\n",
              "    </script>\n",
              "  </div>\n",
              "\n",
              "    </div>\n",
              "  </div>\n"
            ],
            "application/vnd.google.colaboratory.intrinsic+json": {
              "type": "dataframe",
              "variable_name": "tabla_pivote",
              "summary": "{\n  \"name\": \"tabla_pivote\",\n  \"rows\": 23861,\n  \"fields\": [\n    {\n      \"column\": \"APPROVED_Count\",\n      \"properties\": {\n        \"dtype\": \"number\",\n        \"std\": 0,\n        \"min\": 0,\n        \"max\": 31,\n        \"samples\": [\n          1,\n          0,\n          3\n        ],\n        \"num_unique_values\": 17,\n        \"semantic_type\": \"\",\n        \"description\": \"\"\n      }\n    },\n    {\n      \"column\": \"REJECTED_Count\",\n      \"properties\": {\n        \"dtype\": \"number\",\n        \"std\": 2,\n        \"min\": 0,\n        \"max\": 156,\n        \"samples\": [\n          5,\n          2,\n          67\n        ],\n        \"num_unique_values\": 39,\n        \"semantic_type\": \"\",\n        \"description\": \"\"\n      }\n    }\n  ]\n}"
            }
          },
          "metadata": {},
          "execution_count": 60
        }
      ]
    },
    {
      "cell_type": "markdown",
      "source": [
        "# Most Relevant Issuers"
      ],
      "metadata": {
        "id": "ThL9-s2xaRV2"
      }
    },
    {
      "cell_type": "code",
      "source": [
        "# Count the total number of transactions by 'Card Issuer Name'\n",
        "total_transactions = df['Card Issuer Name'].value_counts()\n",
        "\n",
        "# Count 'APPROVED' and 'REJECTED' by 'Card Issuer Name'\n",
        "count_by_issuer_status = df.groupby(['Card Issuer Name', 'Status']).size().unstack(fill_value=0)\n",
        "\n",
        "# Concatenate the results\n",
        "result = pd.concat([total_transactions, count_by_issuer_status], axis=1)\n",
        "\n",
        "# Rename columns for clarity\n",
        "result.columns = ['Total', 'APPROVED', 'REJECTED']\n",
        "\n",
        "# Sort by 'Total' column from highest to lowest\n",
        "result = result.sort_values(by='Total', ascending=False)\n",
        "\n",
        "# Show\n",
        "print(result)"
      ],
      "metadata": {
        "colab": {
          "base_uri": "https://localhost:8080/"
        },
        "id": "82KlbYf6YK8b",
        "outputId": "03e880f7-ff51-4626-baab-40cdd5c8bbd7"
      },
      "execution_count": null,
      "outputs": [
        {
          "output_type": "stream",
          "name": "stdout",
          "text": [
            "              Total  APPROVED  REJECTED\n",
            "BANCO ALICIA  10619      7548      3071\n",
            "BANCO ROSA     6590      3410      3180\n",
            "BANCO SRSR     5747      3998      1749\n",
            "BANCO STEPH    1791      1037       754\n",
            "BANCO ARENAS   1456       964       492\n",
            "...             ...       ...       ...\n",
            "BANCO PIP         1         1         0\n",
            "BANCO RODAMN      1         0         1\n",
            "BANCO SER         1         0         1\n",
            "BANCO ILI         1         1         0\n",
            "BANCO DIRK        1         1         0\n",
            "\n",
            "[74 rows x 3 columns]\n"
          ]
        }
      ]
    },
    {
      "cell_type": "markdown",
      "source": [
        "# Installments"
      ],
      "metadata": {
        "id": "N1guRuzWaVbe"
      }
    },
    {
      "cell_type": "code",
      "source": [
        "# View the distribution of installments\n",
        "sns.countplot(x='Installments', data=df)\n",
        "plt.show()"
      ],
      "metadata": {
        "colab": {
          "base_uri": "https://localhost:8080/",
          "height": 449
        },
        "id": "u_Rt611NYK-n",
        "outputId": "000e1d55-4984-4a0c-d9c7-6a41410b3b9e"
      },
      "execution_count": null,
      "outputs": [
        {
          "output_type": "display_data",
          "data": {
            "text/plain": [
              "<Figure size 640x480 with 1 Axes>"
            ],
            "image/png": "[encoded data removed]"
          },
          "metadata": {}
        }
      ]
    },
    {
      "cell_type": "code",
      "source": [
        "# Visualize the relationship between installments and amount\n",
        "plt.figure(figsize=(10, 6))\n",
        "sns.scatterplot(x='Installments', y='Amount ', data=df)\n",
        "plt.title('Relationship between installments and amount')\n",
        "plt.show()"
      ],
      "metadata": {
        "colab": {
          "base_uri": "https://localhost:8080/",
          "height": 417
        },
        "id": "xKyA3VW6arFk",
        "outputId": "8512d807-4984-4181-defc-a61fa0d45a10"
      },
      "execution_count": null,
      "outputs": [
        {
          "output_type": "display_data",
          "data": {
            "text/plain": [
              "<Figure size 1000x600 with 1 Axes>"
            ],
            "image/png": "[encoded data removed]"
          },
          "metadata": {}
        }
      ]
    },
    {
      "cell_type": "code",
      "source": [
        "# Distribution of installments by payment method\n",
        "fig, ax = plt.subplots(figsize=(12, 6))\n",
        "sns.countplot(x='Installments', hue='Payment Method Name', data=df)\n",
        "plt.title('Distribution of installments by payment method')\n",
        "plt.legend(bbox_to_anchor=(0.3, 1))\n",
        "plt.show()"
      ],
      "metadata": {
        "colab": {
          "base_uri": "https://localhost:8080/",
          "height": 356
        },
        "id": "dF0eH2qJZoJ5",
        "outputId": "001f12de-69ed-4df9-85c5-10fa78f08746"
      },
      "execution_count": null,
      "outputs": [
        {
          "output_type": "display_data",
          "data": {
            "text/plain": [
              "<Figure size 1200x600 with 1 Axes>"
            ],
            "image/png": "[encoded data removed]"
          },
          "metadata": {}
        }
      ]
    },
    {
      "cell_type": "code",
      "source": [
        "df['Date'] = pd.to_datetime(df['Date'])\n",
        "df.set_index('Date', inplace=True)"
      ],
      "metadata": {
        "id": "CHOOAkELcZc_"
      },
      "execution_count": null,
      "outputs": []
    },
    {
      "cell_type": "code",
      "source": [
        "# Distribution of installments per month\n",
        "monthly_installments = df['Installments'].resample('M').mean()\n",
        "monthly_installments.index = monthly_installments.index.strftime('%B')  # Get month names\n",
        "monthly_installments.plot(kind='bar', rot=0)  # rot=0 prevents labels from tilting\n",
        "plt.title('Distribution of installments per month')\n",
        "plt.ylabel('Average installments')\n",
        "plt.show()"
      ],
      "metadata": {
        "colab": {
          "base_uri": "https://localhost:8080/",
          "height": 472
        },
        "id": "hdof-dUEZoSN",
        "outputId": "f36442d0-c5e6-4c46-eeb4-fa33b41a4efc"
      },
      "execution_count": null,
      "outputs": [
        {
          "output_type": "display_data",
          "data": {
            "text/plain": [
              "<Figure size 640x480 with 1 Axes>"
            ],
            "image/png": "[encoded data removed]"
          },
          "metadata": {}
        }
      ]
    },
    {
      "cell_type": "code",
      "source": [
        "# Configure subgraph layout\n",
        "fig, axes = plt.subplots(nrows=2, ncols=2, figsize=(10, 6))\n",
        "\n",
        "# Graph 1: Distribution of Installments\n",
        "sns.countplot(x='Installments', data=df, ax=axes[0, 0])\n",
        "axes[0, 0].set_title('Distribution of Installments')\n",
        "\n",
        "# Graph 2: Relationship between installments and amount\n",
        "sns.scatterplot(x='Installments', y='Amount ', data=df, ax=axes[0, 1])\n",
        "axes[0, 1].set_title('Installments and amount')\n",
        "\n",
        "# Chart 3: Distribution of installments by payment method\n",
        "sns.countplot(x='Installments', hue='Payment Method Name', data=df, ax=axes[1, 0])\n",
        "axes[1, 0].set_title('Installments by payment method')\n",
        "axes[1, 0].legend().set_visible(False)\n",
        "\n",
        "# Graph 4: Distribution of installments per month\n",
        "monthly_installments = df['Installments'].resample('M').mean()\n",
        "monthly_installments.index = monthly_installments.index.strftime('%B')\n",
        "monthly_installments.plot(kind='bar', rot=0, ax=axes[1, 1])\n",
        "axes[1, 1].set_title('Distribution of installments per month')\n",
        "axes[1, 1].set_ylabel('Average')\n",
        "\n",
        "# Adjust the layout\n",
        "plt.tight_layout()\n",
        "plt.show()"
      ],
      "metadata": {
        "colab": {
          "base_uri": "https://localhost:8080/",
          "height": 392
        },
        "id": "1AZ4ucYUZoVn",
        "outputId": "b55c2017-9b11-43dc-994a-9d8c5034fb54"
      },
      "execution_count": null,
      "outputs": [
        {
          "output_type": "display_data",
          "data": {
            "text/plain": [
              "<Figure size 1000x600 with 4 Axes>"
            ],
            "image/png": "[encoded data removed]"
          },
          "metadata": {}
        }
      ]
    },
    {
      "cell_type": "code",
      "source": [
        "# stacked bar chart for Installments and status\n",
        "plt.figure(figsize=(12, 6))\n",
        "sns.countplot(x='Installments', hue='Status', data=df)\n",
        "plt.title('Installments and status')\n",
        "plt.show()"
      ],
      "metadata": {
        "colab": {
          "base_uri": "https://localhost:8080/",
          "height": 353
        },
        "id": "ZzBBZs2oZoY_",
        "outputId": "99a73be7-8d50-44c6-ad1a-65011fbd296a"
      },
      "execution_count": null,
      "outputs": [
        {
          "output_type": "display_data",
          "data": {
            "text/plain": [
              "<Figure size 1200x600 with 1 Axes>"
            ],
            "image/png": "[encoded data removed]"
          },
          "metadata": {}
        }
      ]
    },
    {
      "cell_type": "markdown",
      "source": [
        "# International Transactions"
      ],
      "metadata": {
        "id": "KQ0pCIrri3ls"
      }
    },
    {
      "cell_type": "code",
      "source": [
        "# Get unique values in 'Card Issuer Name' grouped by 'Card Issuer Country'\n",
        "results = df.groupby('Card Issuer Country')['Card Issuer Name'].nunique()\n",
        "\n",
        "# Show\n",
        "print(results)"
      ],
      "metadata": {
        "colab": {
          "base_uri": "https://localhost:8080/"
        },
        "id": "1TJXnY7-FT9g",
        "outputId": "ced05b70-655b-41c5-e50f-f3d2f8e9b789"
      },
      "execution_count": null,
      "outputs": [
        {
          "output_type": "stream",
          "name": "stdout",
          "text": [
            "Card Issuer Country\n",
            "AE     1\n",
            "AR    74\n",
            "AT     1\n",
            "AU     1\n",
            "BD     1\n",
            "BE     1\n",
            "BG     1\n",
            "BR     1\n",
            "CA     1\n",
            "CH     1\n",
            "CL     1\n",
            "CO     1\n",
            "CR     1\n",
            "DE     1\n",
            "DK     1\n",
            "EC     1\n",
            "EG     1\n",
            "ES     1\n",
            "FR     1\n",
            "GB     1\n",
            "GE     1\n",
            "GI     1\n",
            "GT     1\n",
            "ID     1\n",
            "IE     1\n",
            "IN     1\n",
            "IT     1\n",
            "JP     1\n",
            "KE     1\n",
            "KG     1\n",
            "KR     1\n",
            "LT     1\n",
            "MU     1\n",
            "MX     1\n",
            "NG     1\n",
            "NI     1\n",
            "NL     1\n",
            "NO     1\n",
            "NZ     1\n",
            "PA     1\n",
            "PE     1\n",
            "PH     1\n",
            "PL     1\n",
            "PR     1\n",
            "PT     1\n",
            "PY     1\n",
            "SE     1\n",
            "SN     1\n",
            "TC     1\n",
            "TN     1\n",
            "TW     1\n",
            "TZ     1\n",
            "US     1\n",
            "UY     1\n",
            "VE     1\n",
            "WS     1\n",
            "ZA     1\n",
            "Name: Card Issuer Name, dtype: int64\n"
          ]
        }
      ]
    },
    {
      "cell_type": "code",
      "source": [
        "# AR transactions\n",
        "count_ar = (df['Card Issuer Country'] == 'AR').sum()\n",
        "count_ar"
      ],
      "metadata": {
        "colab": {
          "base_uri": "https://localhost:8080/"
        },
        "id": "kXmXlunBGsV2",
        "outputId": "b234cb37-fed3-4e43-9020-03d86b0a31ec"
      },
      "execution_count": null,
      "outputs": [
        {
          "output_type": "execute_result",
          "data": {
            "text/plain": [
              "38657"
            ]
          },
          "metadata": {},
          "execution_count": 70
        }
      ]
    },
    {
      "cell_type": "code",
      "source": [
        "# Percentage of transactions in Argentina\n",
        "38657*100/39474"
      ],
      "metadata": {
        "colab": {
          "base_uri": "https://localhost:8080/"
        },
        "id": "0QbdL_e8GvqT",
        "outputId": "69d5e9b7-f916-48d7-b3e6-5e061bfeada3"
      },
      "execution_count": null,
      "outputs": [
        {
          "output_type": "execute_result",
          "data": {
            "text/plain": [
              "97.93028322440087"
            ]
          },
          "metadata": {},
          "execution_count": 71
        }
      ]
    },
    {
      "cell_type": "code",
      "source": [
        "# Calculate the number of 'APPROVED' and 'REJECTED' grouped by 'Payment Method Name'\n",
        "results = df.groupby('Card Issuer Country')['Status'].value_counts().unstack(fill_value=0)\n",
        "results['Conversion Rate'] = results['APPROVED']*100 / (results['APPROVED'] + results['REJECTED'])\n",
        "# Show\n",
        "print(results)"
      ],
      "metadata": {
        "colab": {
          "base_uri": "https://localhost:8080/"
        },
        "id": "j1Up0wrVJZRe",
        "outputId": "b0b46827-59c3-4176-9fd4-97d013b6ffdd"
      },
      "execution_count": null,
      "outputs": [
        {
          "output_type": "stream",
          "name": "stdout",
          "text": [
            "Status               APPROVED  REJECTED  Conversion Rate\n",
            "Card Issuer Country                                     \n",
            "AE                          0         1         0.000000\n",
            "AR                      25171     13486        65.113692\n",
            "AT                          0         1         0.000000\n",
            "AU                          0         2         0.000000\n",
            "BD                          0         1         0.000000\n",
            "BE                          0         2         0.000000\n",
            "BG                          0         1         0.000000\n",
            "BR                          1        19         5.000000\n",
            "CA                          0        20         0.000000\n",
            "CH                          4         5        44.444444\n",
            "CL                          4        11        26.666667\n",
            "CO                         31        58        34.831461\n",
            "CR                          0         2         0.000000\n",
            "DE                          0         3         0.000000\n",
            "DK                          0         2         0.000000\n",
            "EC                          0         1         0.000000\n",
            "EG                          0         1         0.000000\n",
            "ES                          1         7        12.500000\n",
            "FR                          0         9         0.000000\n",
            "GB                          7        11        38.888889\n",
            "GE                          0         9         0.000000\n",
            "GI                          0         1         0.000000\n",
            "GT                          0         1         0.000000\n",
            "ID                          0         3         0.000000\n",
            "IE                          1         0       100.000000\n",
            "IN                          0         3         0.000000\n",
            "IT                          2         1        66.666667\n",
            "JP                          0         4         0.000000\n",
            "KE                          0         1         0.000000\n",
            "KG                          0         3         0.000000\n",
            "KR                          0         5         0.000000\n",
            "LT                          0         1         0.000000\n",
            "MU                          0         1         0.000000\n",
            "MX                          0        14         0.000000\n",
            "NG                          0         1         0.000000\n",
            "NI                          0         1         0.000000\n",
            "NL                          0        13         0.000000\n",
            "NO                          1         1        50.000000\n",
            "NZ                          0         1         0.000000\n",
            "PA                          1         1        50.000000\n",
            "PE                          1         5        16.666667\n",
            "PH                          0         5         0.000000\n",
            "PL                          0         7         0.000000\n",
            "PR                          0         1         0.000000\n",
            "PT                          0         3         0.000000\n",
            "PY                          0         2         0.000000\n",
            "SE                          0         1         0.000000\n",
            "SN                          0         1         0.000000\n",
            "TC                          0         1         0.000000\n",
            "TN                          0         1         0.000000\n",
            "TW                          0         1         0.000000\n",
            "TZ                          0         1         0.000000\n",
            "US                        195       304        39.078156\n",
            "UY                          6         2        75.000000\n",
            "VE                          0         2         0.000000\n",
            "WS                          0         2         0.000000\n",
            "ZA                          0         1         0.000000\n"
          ]
        }
      ]
    }
  ]
}